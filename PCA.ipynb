{
 "cells": [
  {
   "cell_type": "code",
   "execution_count": 1,
   "id": "759780b9-6a20-4bb1-b034-778178bbb47b",
   "metadata": {},
   "outputs": [],
   "source": [
    "import torch\n",
    "import torch.nn as nn\n",
    "import torch.optim as optim\n",
    "from torchvision import datasets, transforms\n",
    "from torch.autograd import Variable\n",
    "import torch.nn.functional as F\n",
    "import numpy as np\n",
    "import matplotlib.pyplot as plt\n",
    "import os\n",
    "import pandas as pd\n",
    "from sklearn.decomposition import PCA"
   ]
  },
  {
   "cell_type": "code",
   "execution_count": 2,
   "id": "cd56ff0b-8325-40a1-8d8b-f4ebec4575dd",
   "metadata": {},
   "outputs": [],
   "source": [
    "torch.manual_seed(1)\n",
    "os.environ['KMP_DUPLICATE_LIB_OK']='True'"
   ]
  },
  {
   "cell_type": "code",
   "execution_count": 3,
   "id": "3f00cbbb-525a-480a-9c2b-627690358cfe",
   "metadata": {},
   "outputs": [],
   "source": [
    "def data_loading(train_batches, test_batches):\n",
    "    # Fetch training data: total 60000 samples\n",
    "        \n",
    "    trainset = datasets.MNIST('data', train = True, download = False, \n",
    "                transform = transforms.Compose([\n",
    "                transforms.ToTensor()\n",
    "                ]))\n",
    "    train_loader = torch.utils.data.DataLoader(trainset, batches = train_batches, shuffle=True)\n",
    "\n",
    "    testset = datasets.MNIST('data', train = False, download = False, \n",
    "                transform = transforms.Compose([\n",
    "                transforms.ToTensor()\n",
    "                ]))\n",
    "    test_loader = torch.utils.data.DataLoader(testset ,batches = test_batches, shuffle=True)\n",
    "\n",
    "    return (train_loader, test_loader)"
   ]
  },
  {
   "cell_type": "code",
   "execution_count": 4,
   "id": "36261e38-ba79-42d2-86bc-2f7d2bab0d33",
   "metadata": {},
   "outputs": [],
   "source": [
    "class Model1 (nn.Module):\n",
    "    def __init__(self):\n",
    "        super().__init__()\n",
    "        self.fc1 = nn.Linear(784, 10)\n",
    "        self.fc2 = nn.Linear(10, 20)\n",
    "        self.fc3 = nn.Linear(20, 10)\n",
    "\n",
    "    def forward(self, val):\n",
    "        val = F.relu(self.fc1(val))\n",
    "        val = F.relu(self.fc2(val))\n",
    "        val = self.fc3(val)\n",
    "        return val"
   ]
  },
  {
   "cell_type": "code",
   "execution_count": 5,
   "id": "1c6d82b3-2f0b-4be5-819f-4c610f6e9b3c",
   "metadata": {},
   "outputs": [],
   "source": [
    "def calculate_loss(model, loader, loss_fn):\n",
    "    correct = 0\n",
    "    total = 0\n",
    "    costTotal = 0\n",
    "    costCounter = 0\n",
    "    with torch.no_grad():\n",
    "        for batch in loader:\n",
    "            data, target = batch\n",
    "            output = model(data.view(-1, 784))\n",
    "            cost = loss_fn(output, target)\n",
    "            costTotal += cost\n",
    "            costCounter += 1\n",
    "            for i, outputTensor in enumerate(output):\n",
    "                if torch.argmax(outputTensor) == target[i]:\n",
    "                    correct += 1\n",
    "                total += 1\n",
    "    return costTotal / costCounter, round(correct/total, 3)"
   ]
  },
  {
   "cell_type": "code",
   "execution_count": 6,
   "id": "bb23201f-e6e8-4617-90ad-b89bcfa3e76d",
   "metadata": {},
   "outputs": [],
   "source": [
    "def trainFunc(model, num_epochs):\n",
    "    model.train()\n",
    "    epoch = 0 \n",
    "    \n",
    "    df = pd.DataFrame()\n",
    "    for epoch in range (num_epochs):\n",
    "        epoch += 1\n",
    "\n",
    "        for _, (images, labels) in enumerate(train_loader):  \n",
    "            images, labels = Variable(images),Variable(labels)     \n",
    "            opt.zero_grad()\n",
    "            pred = model(images.view(-1, 784))\n",
    "            loss = loss_fn(pred, labels)\n",
    "            loss.backward()\n",
    "            opt.step()\n",
    "\n",
    "        temp_df = pd.DataFrame()\n",
    "        for name, parameter in model.named_parameters():\n",
    "            if 'weight' in name:\n",
    "                weights = torch.nn.utils.parameters_to_vector(parameter).detach().numpy() \n",
    "                temp_df = pd.concat([temp_df, pd.DataFrame(weights).T], axis = 1)\n",
    "        df = pd.concat([df, temp_df], axis = 0)\n",
    "        train_loss, train_acc = calculate_loss(M, train_loader, loss_fn)\n",
    "        test_loss, test_acc = calculate_loss(M, test_loader, loss_fn)\n",
    "\n",
    "        train_arr_of_losses.append(train_loss)\n",
    "        test_arr_of_losses.append(test_loss)\n",
    "        train_acc_arr.append(train_acc)\n",
    "        test_acc_arr.append(test_acc)\n",
    "\n",
    "    return df"
   ]
  },
  {
   "cell_type": "code",
   "execution_count": 7,
   "id": "78c709f8-cd2f-489f-9161-da593650edd1",
   "metadata": {},
   "outputs": [],
   "source": [
    "train_batches = 1000\n",
    "test_batches = 1000\n",
    "train_loader, test_loader = data_loading(train_batches, test_batches)\n",
    "train_arr_of_losses = []\n",
    "test_arr_of_losses = []\n",
    "train_acc_arr = []\n",
    "test_acc_arr = []"
   ]
  },
  {
   "cell_type": "code",
   "execution_count": 8,
   "id": "d65920be-dc7d-4016-95f3-633d8d107bd8",
   "metadata": {},
   "outputs": [
    {
     "name": "stdout",
     "output_type": "stream",
     "text": [
      "Time: 0\n",
      "Time: 1\n",
      "Time: 2\n",
      "Time: 3\n",
      "Time: 4\n",
      "Time: 5\n",
      "Time: 6\n",
      "Time: 7\n"
     ]
    }
   ],
   "source": [
    "epochs_maxs = 45\n",
    "all_df = pd.DataFrame()\n",
    "columns=[\"x\",\"y\",\"Times\"]\n",
    "\n",
    "loss_fn = nn.CrossEntropyLoss()\n",
    "\n",
    "for count in range(8):\n",
    "    print(\"Time: \"+str(count))\n",
    "    M = Model1()\n",
    "    opt = torch.optim.Adam(M.parameters(),lr = 0.0004, weight_decay=1e-4)\n",
    "    model_name1 = \"Times: \"+str(count)    \n",
    "    temp_df = trainFunc(M, epochs_maxs)\n",
    "\n",
    "    all_df = pd.concat([all_df, temp_df], ignore_index=True)"
   ]
  },
  {
   "cell_type": "code",
   "execution_count": 9,
   "id": "01857dd1-058d-4382-a7ff-04f23573897f",
   "metadata": {},
   "outputs": [],
   "source": [
    "df = all_df\n",
    "df = np.array(df)\n",
    "pca = PCA(n_components=2)\n",
    "new_data = pca.fit_transform(df)"
   ]
  },
  {
   "cell_type": "code",
   "execution_count": 10,
   "id": "5ce25e9d-0ced-4c1e-8e17-58cb129d78eb",
   "metadata": {},
   "outputs": [],
   "source": [
    "df = pd.DataFrame(new_data, columns=['x','y'])\n",
    "df['Accuracy'] = train_acc_arr\n",
    "df['Loss'] = train_arr_of_losses\n",
    "final_df = df.iloc[::3, :]"
   ]
  },
  {
   "cell_type": "code",
   "execution_count": 11,
   "id": "00db1829-853a-464e-98d2-b3654c62dbf5",
   "metadata": {},
   "outputs": [
    {
     "data": {
      "image/png": "[encoded data removed]",
      "text/plain": [
       "<Figure size 640x480 with 1 Axes>"
      ]
     },
     "metadata": {},
     "output_type": "display_data"
    }
   ],
   "source": [
    "for i in range(120):\n",
    "    m = list(final_df['Accuracy'])[i]\n",
    "    plt.scatter(final_df['x'][i*3], final_df['y'][i*3], marker = f'${m}$')\n",
    "    plt.title(\"PCA for model\")"
   ]
  },
  {
   "cell_type": "code",
   "execution_count": 12,
   "id": "3ffe4639-17bc-4f95-b2c2-6913e35598b4",
   "metadata": {},
   "outputs": [],
   "source": [
    "layer_1 = all_df.iloc[ : , 0:7840]"
   ]
  },
  {
   "cell_type": "code",
   "execution_count": 13,
   "id": "014c1187-7b3e-407d-b6f4-f85130055dd7",
   "metadata": {},
   "outputs": [],
   "source": [
    "df = layer_1\n",
    "df = np.array(df)\n",
    "pca = PCA(n_components=2)\n",
    "new_data = pca.fit_transform(df)"
   ]
  },
  {
   "cell_type": "code",
   "execution_count": 14,
   "id": "6665fa25-1133-4f68-b2ab-8c8b1d7b876c",
   "metadata": {},
   "outputs": [],
   "source": [
    "df = pd.DataFrame(new_data, columns=['x','y'])\n",
    "df['Accuracy'] = train_acc_arr\n",
    "df['Loss'] = train_arr_of_losses\n",
    "final_df = df.iloc[::3, :]"
   ]
  },
  {
   "cell_type": "code",
   "execution_count": 15,
   "id": "8a8038d0-1b78-465b-9de8-cb36cf070aaf",
   "metadata": {},
   "outputs": [
    {
     "data": {
      "image/png": "[encoded data removed]",
      "text/plain": [
       "<Figure size 640x480 with 1 Axes>"
      ]
     },
     "metadata": {},
     "output_type": "display_data"
    }
   ],
   "source": [
    "for i in range(120):\n",
    "    m = list(final_df['Accuracy'])[i]\n",
    "    plt.scatter(final_df['x'][i*3], final_df['y'][i*3], marker = f'${m}$')\n",
    "    plt.title(\"PCA for 1 layer\")"
   ]
  },
  {
   "cell_type": "code",
   "execution_count": null,
   "id": "b13abc2c-3f56-4f48-acbe-a4454614b860",
   "metadata": {},
   "outputs": [],
   "source": []
  }
 ],
 "metadata": {
  "kernelspec": {
   "display_name": "Python 3 (ipykernel)",
   "language": "python",
   "name": "python3"
  },
  "language_info": {
   "codemirror_mode": {
    "name": "ipython",
    "version": 3
   },
   "file_extension": ".py",
   "mimetype": "text/x-python",
   "name": "python",
   "nbconvert_exporter": "python",
   "pygments_lexer": "ipython3",
   "version": "3.11.5"
  }
 },
 "nbformat": 4,
 "nbformat_minor": 5
}
